{
 "cells": [
  {
   "cell_type": "code",
   "execution_count": 1,
   "id": "a77363b7-ddb4-4047-b114-ae71eb5880b5",
   "metadata": {},
   "outputs": [],
   "source": [
    "import pandas as pd\n",
    "import numpy as np\n",
    "import os"
   ]
  },
  {
   "cell_type": "code",
   "execution_count": 2,
   "id": "d85ce822-e80b-4217-9936-ca5afac37cea",
   "metadata": {},
   "outputs": [],
   "source": [
    "file_path = 'css_chatgpt2023_research.csv'"
   ]
  },
  {
   "cell_type": "code",
   "execution_count": 3,
   "id": "a71c8278-8da2-4414-9ee9-64156c6d2098",
   "metadata": {},
   "outputs": [],
   "source": [
    "df = pd.read_csv(file_path)"
   ]
  },
  {
   "cell_type": "markdown",
   "id": "9546de81-6bc8-4a9d-a33a-fde26b5a7599",
   "metadata": {},
   "source": [
    "## General metrics:"
   ]
  },
  {
   "cell_type": "code",
   "execution_count": 4,
   "id": "58889ba7-177c-42d1-a4c7-9cb63e5d9abe",
   "metadata": {},
   "outputs": [
    {
     "name": "stdout",
     "output_type": "stream",
     "text": [
      "DataFrame columns:\n",
      "['subreddit', 'author', 'score', 'created', 'body', 'link']\n"
     ]
    }
   ],
   "source": [
    "print(\"DataFrame columns:\")\n",
    "print(df.columns.tolist())"
   ]
  },
  {
   "cell_type": "code",
   "execution_count": 5,
   "id": "d76d06d8-0ccf-45dc-864a-c558585127af",
   "metadata": {},
   "outputs": [
    {
     "name": "stdout",
     "output_type": "stream",
     "text": [
      "Total data size: 1776.44 MB\n"
     ]
    }
   ],
   "source": [
    "total_size_mb = df.memory_usage(deep=True).sum() / (1024**2)\n",
    "print(f\"Total data size: {total_size_mb:.2f} MB\")"
   ]
  },
  {
   "cell_type": "code",
   "execution_count": 6,
   "id": "27aa4bf6-7732-42d3-81ff-cc7799c23e34",
   "metadata": {},
   "outputs": [
    {
     "name": "stdout",
     "output_type": "stream",
     "text": [
      "Number of rows (records): 2,678,522\n"
     ]
    }
   ],
   "source": [
    "num_rows = len(df)\n",
    "print(f\"Number of rows (records): {num_rows:,}\")"
   ]
  },
  {
   "cell_type": "code",
   "execution_count": 7,
   "id": "44bf7afd-634e-4281-8e95-5c125c3e8316",
   "metadata": {},
   "outputs": [
    {
     "name": "stdout",
     "output_type": "stream",
     "text": [
      "<class 'pandas.core.frame.DataFrame'>\n",
      "RangeIndex: 2678522 entries, 0 to 2678521\n",
      "Data columns (total 6 columns):\n",
      " #   Column     Dtype \n",
      "---  ------     ----- \n",
      " 0   subreddit  object\n",
      " 1   author     object\n",
      " 2   score      int64 \n",
      " 3   created    object\n",
      " 4   body       object\n",
      " 5   link       object\n",
      "dtypes: int64(1), object(5)\n",
      "memory usage: 1.7 GB\n"
     ]
    }
   ],
   "source": [
    "df.info(verbose=True, memory_usage='deep')"
   ]
  },
  {
   "cell_type": "code",
   "execution_count": 8,
   "id": "ebe92656-803d-4643-9f8d-85364b1f61d8",
   "metadata": {},
   "outputs": [
    {
     "name": "stdout",
     "output_type": "stream",
     "text": [
      "Numerical statistics:\n",
      "              score\n",
      "count  2.678522e+06\n",
      "mean   9.170316e+00\n",
      "std    1.080675e+02\n",
      "min   -7.660000e+02\n",
      "25%    1.000000e+00\n",
      "50%    1.000000e+00\n",
      "75%    3.000000e+00\n",
      "max    2.210300e+04\n"
     ]
    }
   ],
   "source": [
    "print(\"Numerical statistics:\")\n",
    "print(df.describe(include='number'))"
   ]
  },
  {
   "cell_type": "code",
   "execution_count": 9,
   "id": "aec4f6c5-afb6-4c7e-92ac-e4e132093f6a",
   "metadata": {},
   "outputs": [
    {
     "name": "stdout",
     "output_type": "stream",
     "text": [
      "Categorical statistics:\n",
      "         subreddit       author           created       body  \\\n",
      "count      2678522      2678522           2678522    2678478   \n",
      "unique          10       460491            176850    2333352   \n",
      "top     technology  u/[deleted]  2023-04-20 19:12  [removed]   \n",
      "freq        883513       285177                65     123135   \n",
      "\n",
      "                                                     link  \n",
      "count                                             2678522  \n",
      "unique                                            2678522  \n",
      "top     https://www.reddit.com/r/singularity/comments/...  \n",
      "freq                                                    1  \n"
     ]
    }
   ],
   "source": [
    "print(\"Categorical statistics:\")\n",
    "print(df.describe(include='object'))"
   ]
  },
  {
   "cell_type": "markdown",
   "id": "0567e492-12e9-46a3-9f72-3eabf4134d11",
   "metadata": {},
   "source": [
    "## Cleaning the data:"
   ]
  },
  {
   "cell_type": "markdown",
   "id": "fcdb3f99-1b46-4a38-90eb-0974255be114",
   "metadata": {},
   "source": [
    "During our initial review, we found that over 120,000 records had been deleted or removed by moderators, and many comments came from deleted user accounts. Because of this, we had to clean the data before doing any sentiment analysis. "
   ]
  },
  {
   "cell_type": "code",
   "execution_count": 10,
   "id": "d89bee6a-f7f6-4ae6-81bf-62d6b6b07bc4",
   "metadata": {},
   "outputs": [],
   "source": [
    "noise_values = ['[deleted]', '[removed]', '', None, np.nan]\n",
    "df.drop(df[df['body'].isin(noise_values)].index, inplace=True)\n",
    "\n",
    "df.drop(df[df['author'].isin(['[deleted]', 'None'])].index, inplace=True)"
   ]
  },
  {
   "cell_type": "markdown",
   "id": "7aea6d1d-c614-40fd-998d-32424133f2ae",
   "metadata": {},
   "source": [
    "\n",
    "We filtered out all rows where the comment text was missing or showed placeholders like [deleted] or [removed]. This step helped improve the quality of our dataset by keeping only real, readable comments. As a result, our analysis of comment frequency and sentiment will better reflect actual user opinions, not moderation noise.\n"
   ]
  },
  {
   "cell_type": "code",
   "execution_count": 11,
   "id": "e7f6e4a4-5a0b-459c-9f2e-d788c4ff6f18",
   "metadata": {},
   "outputs": [],
   "source": [
    "try:\n",
    "    df['score'] = pd.to_numeric(df['score'], errors='coerce').fillna(0).astype(int)\n",
    "except Exception as e:\n",
    "    print(f\"Score conversion error: {e}. Left as 'object'\")"
   ]
  },
  {
   "cell_type": "markdown",
   "id": "8701a36c-f6aa-481b-81d0-cd08f63955e3",
   "metadata": {},
   "source": [
    "Next, we fixed the score column, which shows how popular each comment is. We replaced those missing values with zero, so every comment has a usable score. Finally, we converted the whole column into clean integer numbers. \n",
    "\n",
    "This helps us make sure the popularity scores are consistent and reliable, which is important for calculating average sentiment and other key statistics.\n",
    "\n",
    "## Final result:"
   ]
  },
  {
   "cell_type": "code",
   "execution_count": 12,
   "id": "5e2e4a0f-cffd-4145-a82e-07879bf5a180",
   "metadata": {},
   "outputs": [
    {
     "name": "stdout",
     "output_type": "stream",
     "text": [
      "Numerical statistics:\n",
      "              score\n",
      "count  2.440487e+06\n",
      "mean   9.726924e+00\n",
      "std    1.118540e+02\n",
      "min   -5.450000e+02\n",
      "25%    1.000000e+00\n",
      "50%    1.000000e+00\n",
      "75%    3.000000e+00\n",
      "max    2.210300e+04\n"
     ]
    }
   ],
   "source": [
    "print(\"Numerical statistics:\")\n",
    "print(df.describe(include='number'))"
   ]
  },
  {
   "cell_type": "code",
   "execution_count": 13,
   "id": "2be920e2-a88a-46f5-a4ca-b489b9905216",
   "metadata": {},
   "outputs": [
    {
     "name": "stdout",
     "output_type": "stream",
     "text": [
      "Categorical statistics:\n",
      "         subreddit           author           created  \\\n",
      "count      2440487          2440487           2440487   \n",
      "unique          10           460484            176832   \n",
      "top     technology  u/AutoModerator  2023-04-20 19:12   \n",
      "freq        789831            99794                58   \n",
      "\n",
      "                                                     body  \\\n",
      "count                                             2440487   \n",
      "unique                                            2333350   \n",
      "top     **Attention! [Serious] Tag Notice**\\n\\n : Joke...   \n",
      "freq                                                 8092   \n",
      "\n",
      "                                                     link  \n",
      "count                                             2440487  \n",
      "unique                                            2440487  \n",
      "top     https://www.reddit.com/r/singularity/comments/...  \n",
      "freq                                                    1  \n"
     ]
    }
   ],
   "source": [
    "print(\"Categorical statistics:\")\n",
    "print(df.describe(include='object'))"
   ]
  },
  {
   "cell_type": "code",
   "execution_count": 14,
   "id": "9ad728ee-26af-437c-b6bb-33c67526cb03",
   "metadata": {},
   "outputs": [
    {
     "name": "stdout",
     "output_type": "stream",
     "text": [
      "Simple frequency overview per category:\n",
      "\n",
      "Subreddit Counts:\n",
      "subreddit\n",
      "technology               789831\n",
      "ChatGPT                  747607\n",
      "Futurology               317730\n",
      "singularity              311371\n",
      "OpenAI                   110510\n",
      "privacy                   54066\n",
      "MachineLearning           52557\n",
      "ArtificialInteligence     47408\n",
      "Gemini                     5924\n",
      "Bard                       3483\n",
      "Name: count, dtype: int64\n"
     ]
    }
   ],
   "source": [
    "print(\"Simple frequency overview per category:\")\n",
    "print(\"\\nSubreddit Counts:\")\n",
    "print(df['subreddit'].value_counts())"
   ]
  },
  {
   "cell_type": "code",
   "execution_count": 15,
   "id": "b04e0543-642f-4641-b5c3-b7bd3be081be",
   "metadata": {},
   "outputs": [
    {
     "name": "stdout",
     "output_type": "stream",
     "text": [
      "Monthly counts:\n",
      "month\n",
      "2023-03    600616\n",
      "2023-04    659669\n",
      "2023-05    642643\n",
      "2023-06      4016\n",
      "2023-12    532340\n",
      "2024-01      1203\n",
      "Freq: M, Name: count, dtype: int64\n"
     ]
    }
   ],
   "source": [
    "df['date'] = pd.to_datetime(df['created'])\n",
    "df['month'] = df['date'].dt.to_period('M')\n",
    "\n",
    "print(\"Monthly counts:\")\n",
    "print(df['month'].value_counts().sort_index())"
   ]
  },
  {
   "cell_type": "markdown",
   "id": "5bbd66b6-8e8c-4df6-b4b5-77c31a0b8ae6",
   "metadata": {},
   "source": [
    "When we looked at the final data, we saw that most comments came from our planned months (March, May, April, December 2023). However, a very small number of comments were also counted in June 2023 and January 2024. \n",
    "\n",
    "This happens because all Reddit data is recorded using UTC time (Universal Coordinated Time). When we converted this UTC time to local dates for our analysis, some comments posted in the last few hours of one month officially \"leaked\" into the first few hours of the next month. Because the number of leaked comments is extremely small (only 4,615 in June 2023 and 1,259 in January 2024, compared to hundreds of thousands in our target months), we know these months do not affect our main analysis of the two major sentiment phases."
   ]
  },
  {
   "cell_type": "code",
   "execution_count": 16,
   "id": "62f30c75-e2e9-4baa-b3b5-986cd63339ac",
   "metadata": {},
   "outputs": [
    {
     "name": "stdout",
     "output_type": "stream",
     "text": [
      "Number of rows after cleaning: 2,440,487\n"
     ]
    }
   ],
   "source": [
    "num_rows = len(df)\n",
    "print(f\"Number of rows after cleaning: {num_rows:,}\")"
   ]
  },
  {
   "cell_type": "code",
   "execution_count": 17,
   "id": "d09f68ff-29f1-4ca7-9038-a80aefdb583b",
   "metadata": {},
   "outputs": [
    {
     "name": "stdout",
     "output_type": "stream",
     "text": [
      "DataFrame head:\n",
      "     subreddit                 author  score           created  \\\n",
      "0  singularity        u/rodeoclownboy     -2  2023-03-01 02:00   \n",
      "1   technology  u/Siliceously_Sintery      0  2023-03-01 02:00   \n",
      "2   Futurology          u/WarLordM123     -3  2023-03-01 02:00   \n",
      "3   technology   u/Sven_Grammerstorf_      1  2023-03-01 02:00   \n",
      "4   technology             u/Nkognito      1  2023-03-01 02:00   \n",
      "\n",
      "                                                body  \\\n",
      "0  if your job is at serious risk of being replac...   \n",
      "1  Anything out of China can be controlled direct...   \n",
      "2  It's the reason we have the wonders of the mod...   \n",
      "3              Most large companies are self insured   \n",
      "4  You missed the beard scratch violation in the ...   \n",
      "\n",
      "                                                link                date  \\\n",
      "0  https://www.reddit.com/r/singularity/comments/... 2023-03-01 02:00:00   \n",
      "1  https://www.reddit.com/r/technology/comments/1... 2023-03-01 02:00:00   \n",
      "2  https://www.reddit.com/r/Futurology/comments/1... 2023-03-01 02:00:00   \n",
      "3  https://www.reddit.com/r/technology/comments/1... 2023-03-01 02:00:00   \n",
      "4  https://www.reddit.com/r/technology/comments/1... 2023-03-01 02:00:00   \n",
      "\n",
      "     month  \n",
      "0  2023-03  \n",
      "1  2023-03  \n",
      "2  2023-03  \n",
      "3  2023-03  \n",
      "4  2023-03  \n"
     ]
    }
   ],
   "source": [
    "print(\"DataFrame head:\")\n",
    "print(df.head())"
   ]
  },
  {
   "cell_type": "code",
   "execution_count": 19,
   "id": "35512de3-384c-40d3-a850-7849e38c14e0",
   "metadata": {},
   "outputs": [
    {
     "data": {
      "text/html": [
       "<div>\n",
       "<style scoped>\n",
       "    .dataframe tbody tr th:only-of-type {\n",
       "        vertical-align: middle;\n",
       "    }\n",
       "\n",
       "    .dataframe tbody tr th {\n",
       "        vertical-align: top;\n",
       "    }\n",
       "\n",
       "    .dataframe thead th {\n",
       "        text-align: right;\n",
       "    }\n",
       "</style>\n",
       "<table border=\"1\" class=\"dataframe\">\n",
       "  <thead>\n",
       "    <tr style=\"text-align: right;\">\n",
       "      <th></th>\n",
       "      <th>subreddit</th>\n",
       "      <th>author</th>\n",
       "      <th>score</th>\n",
       "      <th>created</th>\n",
       "      <th>body</th>\n",
       "      <th>link</th>\n",
       "      <th>date</th>\n",
       "      <th>month</th>\n",
       "    </tr>\n",
       "  </thead>\n",
       "  <tbody>\n",
       "    <tr>\n",
       "      <th>0</th>\n",
       "      <td>singularity</td>\n",
       "      <td>u/rodeoclownboy</td>\n",
       "      <td>-2</td>\n",
       "      <td>2023-03-01 02:00</td>\n",
       "      <td>if your job is at serious risk of being replac...</td>\n",
       "      <td>https://www.reddit.com/r/singularity/comments/...</td>\n",
       "      <td>2023-03-01 02:00:00</td>\n",
       "      <td>2023-03</td>\n",
       "    </tr>\n",
       "    <tr>\n",
       "      <th>1</th>\n",
       "      <td>technology</td>\n",
       "      <td>u/Siliceously_Sintery</td>\n",
       "      <td>0</td>\n",
       "      <td>2023-03-01 02:00</td>\n",
       "      <td>Anything out of China can be controlled direct...</td>\n",
       "      <td>https://www.reddit.com/r/technology/comments/1...</td>\n",
       "      <td>2023-03-01 02:00:00</td>\n",
       "      <td>2023-03</td>\n",
       "    </tr>\n",
       "    <tr>\n",
       "      <th>2</th>\n",
       "      <td>Futurology</td>\n",
       "      <td>u/WarLordM123</td>\n",
       "      <td>-3</td>\n",
       "      <td>2023-03-01 02:00</td>\n",
       "      <td>It's the reason we have the wonders of the mod...</td>\n",
       "      <td>https://www.reddit.com/r/Futurology/comments/1...</td>\n",
       "      <td>2023-03-01 02:00:00</td>\n",
       "      <td>2023-03</td>\n",
       "    </tr>\n",
       "    <tr>\n",
       "      <th>3</th>\n",
       "      <td>technology</td>\n",
       "      <td>u/Sven_Grammerstorf_</td>\n",
       "      <td>1</td>\n",
       "      <td>2023-03-01 02:00</td>\n",
       "      <td>Most large companies are self insured</td>\n",
       "      <td>https://www.reddit.com/r/technology/comments/1...</td>\n",
       "      <td>2023-03-01 02:00:00</td>\n",
       "      <td>2023-03</td>\n",
       "    </tr>\n",
       "    <tr>\n",
       "      <th>4</th>\n",
       "      <td>technology</td>\n",
       "      <td>u/Nkognito</td>\n",
       "      <td>1</td>\n",
       "      <td>2023-03-01 02:00</td>\n",
       "      <td>You missed the beard scratch violation in the ...</td>\n",
       "      <td>https://www.reddit.com/r/technology/comments/1...</td>\n",
       "      <td>2023-03-01 02:00:00</td>\n",
       "      <td>2023-03</td>\n",
       "    </tr>\n",
       "  </tbody>\n",
       "</table>\n",
       "</div>"
      ],
      "text/plain": [
       "     subreddit                 author  score           created  \\\n",
       "0  singularity        u/rodeoclownboy     -2  2023-03-01 02:00   \n",
       "1   technology  u/Siliceously_Sintery      0  2023-03-01 02:00   \n",
       "2   Futurology          u/WarLordM123     -3  2023-03-01 02:00   \n",
       "3   technology   u/Sven_Grammerstorf_      1  2023-03-01 02:00   \n",
       "4   technology             u/Nkognito      1  2023-03-01 02:00   \n",
       "\n",
       "                                                body  \\\n",
       "0  if your job is at serious risk of being replac...   \n",
       "1  Anything out of China can be controlled direct...   \n",
       "2  It's the reason we have the wonders of the mod...   \n",
       "3              Most large companies are self insured   \n",
       "4  You missed the beard scratch violation in the ...   \n",
       "\n",
       "                                                link                date  \\\n",
       "0  https://www.reddit.com/r/singularity/comments/... 2023-03-01 02:00:00   \n",
       "1  https://www.reddit.com/r/technology/comments/1... 2023-03-01 02:00:00   \n",
       "2  https://www.reddit.com/r/Futurology/comments/1... 2023-03-01 02:00:00   \n",
       "3  https://www.reddit.com/r/technology/comments/1... 2023-03-01 02:00:00   \n",
       "4  https://www.reddit.com/r/technology/comments/1... 2023-03-01 02:00:00   \n",
       "\n",
       "     month  \n",
       "0  2023-03  \n",
       "1  2023-03  \n",
       "2  2023-03  \n",
       "3  2023-03  \n",
       "4  2023-03  "
      ]
     },
     "execution_count": 19,
     "metadata": {},
     "output_type": "execute_result"
    }
   ],
   "source": [
    "df.head()"
   ]
  },
  {
   "cell_type": "code",
   "execution_count": null,
   "id": "81a4d0f6-f80f-434a-a9bf-142e8623b018",
   "metadata": {},
   "outputs": [],
   "source": []
  }
 ],
 "metadata": {
  "kernelspec": {
   "display_name": "Python 3 (ipykernel)",
   "language": "python",
   "name": "python3"
  },
  "language_info": {
   "codemirror_mode": {
    "name": "ipython",
    "version": 3
   },
   "file_extension": ".py",
   "mimetype": "text/x-python",
   "name": "python",
   "nbconvert_exporter": "python",
   "pygments_lexer": "ipython3",
   "version": "3.13.2"
  }
 },
 "nbformat": 4,
 "nbformat_minor": 5
}
